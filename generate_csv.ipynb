{
 "cells": [
  {
   "cell_type": "code",
   "execution_count": 103,
   "metadata": {},
   "outputs": [],
   "source": [
    "import pandas as pd\n",
    "import random as rd\n",
    "import datetime as dt\n",
    "import numpy as np"
   ]
  },
  {
   "cell_type": "code",
   "execution_count": 104,
   "metadata": {},
   "outputs": [],
   "source": [
    "data=pd.DataFrame([], columns=['Date','Market','Capital_used','ROI','Profit_Loss','Opened_trades','Closed_trades','Profitable_trades',\n",
    "                            'Loosing_trades','Targets_met','Stoplosses_hit','broker_name','segment','trade_type','long_short','hourly_slots',\n",
    "                            'pre_planned_or_adhoc','strategy_id'])"
   ]
  },
  {
   "cell_type": "code",
   "execution_count": 105,
   "metadata": {},
   "outputs": [],
   "source": [
    "for ind in range(50):\n",
    "    df_row ={}\n",
    "    df_row['Date'] = (dt.date(2021, 4, 1)+dt.timedelta(rd.randint(0,112))).strftime(\"%d/%m/%Y\")\n",
    "    df_row['Market'] = 'IND'\n",
    "    df_row['Capital_used']=rd.randint(50000, 1500000)\n",
    "    df_row['ROI']=0\n",
    "    df_row['Profit_Loss']=round(rd.randint(10, 100)/2*(-1)**rd.randint(0,1)* df_row['Capital_used']/1000,2)\n",
    "    #round(df_row['Capital_used']*df_row['ROI']/100,2)\n",
    "    df_row['Opened_trades']=rd.randint(1, 50)\n",
    "    df_row['Closed_trades']=rd.randint(1, 50)\n",
    "    df_row['Profitable_trades']=rd.randint(0, df_row['Closed_trades'])\n",
    "    df_row['Loosing_trades']=df_row['Closed_trades']-df_row['Profitable_trades']\n",
    "    df_row['Targets_met']=rd.randint(0, df_row['Profitable_trades'])\n",
    "    df_row['Stoplosses_hit']=rd.randint(0, df_row['Loosing_trades'])\n",
    "    df_row['broker_name']=rd.choice(['A','B','C', 'D'])\n",
    "    df_row['segment']=rd.choice([' Equity', 'FnO', 'Forex','Commodities', 'Shares'])\n",
    "    df_row['trade_type']=rd.choice(['scalping','intraday', 'swing', 'positional'])\n",
    "    df_row['long_short']=rd.choice(['Long','Short'])\n",
    "    df_row['hourly_slots']=rd.randint(1, 4)\n",
    "    df_row['pre_planned_or_adhoc']=rd.randint(1, 2)\n",
    "    df_row['strategy_id']=rd.randint(1, 10)\n",
    "    data=data.append(df_row,ignore_index=True)\n"
   ]
  },
  {
   "cell_type": "code",
   "execution_count": 106,
   "metadata": {},
   "outputs": [],
   "source": [
    "data['Capital_used']=data['Capital_used'].astype(int)"
   ]
  },
  {
   "cell_type": "code",
   "execution_count": 107,
   "metadata": {},
   "outputs": [],
   "source": [
    "tmp=data[[\"Date\",'Profit_Loss','Capital_used']].groupby(by=[\"Date\"]).mean()"
   ]
  },
  {
   "cell_type": "code",
   "execution_count": 108,
   "metadata": {},
   "outputs": [],
   "source": [
    "tmp['ROI']=(tmp['Profit_Loss']/tmp['Capital_used']*100).round(2)"
   ]
  },
  {
   "cell_type": "code",
   "execution_count": 109,
   "metadata": {},
   "outputs": [],
   "source": [
    "tmp=tmp.reset_index()"
   ]
  },
  {
   "cell_type": "code",
   "execution_count": 110,
   "metadata": {},
   "outputs": [],
   "source": [
    "#data['ROI']=data.apply(lambda x: tmp[tmp['Date']==x['Date']]['ROI'], axis =1)"
   ]
  },
  {
   "cell_type": "code",
   "execution_count": 111,
   "metadata": {},
   "outputs": [],
   "source": [
    "for date_ in tmp['Date']:\n",
    "    #print(tmp[tmp['Date']==date_]['ROI'])\n",
    "    #print(tmp.loc[tmp['Date']==date_,'ROI'])\n",
    "    data.loc[data['Date']==date_,'ROI']=tmp.loc[tmp['Date']==date_,'ROI'].to_numpy()\n",
    "    #print(data.loc[data['Date']==date_,'ROI'])    "
   ]
  },
  {
   "cell_type": "code",
   "execution_count": 113,
   "metadata": {},
   "outputs": [],
   "source": [
    "data.to_csv(\"test.csv\")"
   ]
  },
  {
   "cell_type": "code",
   "execution_count": 14,
   "metadata": {},
   "outputs": [],
   "source": []
  },
  {
   "cell_type": "code",
   "execution_count": 29,
   "metadata": {},
   "outputs": [
    {
     "data": {
      "text/plain": [
       "0"
      ]
     },
     "execution_count": 29,
     "metadata": {},
     "output_type": "execute_result"
    }
   ],
   "source": [
    "rd.randint(0,1)"
   ]
  },
  {
   "cell_type": "code",
   "execution_count": null,
   "metadata": {},
   "outputs": [],
   "source": []
  }
 ],
 "metadata": {
  "kernelspec": {
   "display_name": "Python 3",
   "language": "python",
   "name": "python3"
  },
  "language_info": {
   "codemirror_mode": {
    "name": "ipython",
    "version": 3
   },
   "file_extension": ".py",
   "mimetype": "text/x-python",
   "name": "python",
   "nbconvert_exporter": "python",
   "pygments_lexer": "ipython3",
   "version": "3.7.3"
  }
 },
 "nbformat": 4,
 "nbformat_minor": 4
}
